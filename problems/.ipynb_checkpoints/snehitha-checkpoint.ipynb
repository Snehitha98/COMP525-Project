{
 "cells": [
  {
   "cell_type": "code",
   "execution_count": 2,
   "metadata": {},
   "outputs": [
    {
     "data": {
      "text/html": [
       "<div>\n",
       "<style scoped>\n",
       "    .dataframe tbody tr th:only-of-type {\n",
       "        vertical-align: middle;\n",
       "    }\n",
       "\n",
       "    .dataframe tbody tr th {\n",
       "        vertical-align: top;\n",
       "    }\n",
       "\n",
       "    .dataframe thead th {\n",
       "        text-align: right;\n",
       "    }\n",
       "</style>\n",
       "<table border=\"1\" class=\"dataframe\">\n",
       "  <thead>\n",
       "    <tr style=\"text-align: right;\">\n",
       "      <th></th>\n",
       "      <th>neighborhood group</th>\n",
       "      <th>listing details</th>\n",
       "    </tr>\n",
       "  </thead>\n",
       "  <tbody>\n",
       "    <tr>\n",
       "      <th>0</th>\n",
       "      <td>\"Staten Island\"</td>\n",
       "      <td>['\"D Private Che@p Room 2 Explore NYC\"', '36',...</td>\n",
       "    </tr>\n",
       "    <tr>\n",
       "      <th>1</th>\n",
       "      <td>\"Manhattan\"</td>\n",
       "      <td>['\"Great Bedroom in Manhattan\"', '49', '\"Harle...</td>\n",
       "    </tr>\n",
       "    <tr>\n",
       "      <th>2</th>\n",
       "      <td>\"Brooklyn\"</td>\n",
       "      <td>['\"Private brownstone studio Brooklyn\"', '160'...</td>\n",
       "    </tr>\n",
       "    <tr>\n",
       "      <th>3</th>\n",
       "      <td>\"Bronx\"</td>\n",
       "      <td>['\"Cozy Private Bedroom\"', '53', '\"Mott Haven\"']</td>\n",
       "    </tr>\n",
       "    <tr>\n",
       "      <th>4</th>\n",
       "      <td>\"Queens\"</td>\n",
       "      <td>['\"Room near JFK Queen Bed\"', '47', '\"Jamaica\"']</td>\n",
       "    </tr>\n",
       "  </tbody>\n",
       "</table>\n",
       "</div>"
      ],
      "text/plain": [
       "  neighborhood group                                    listing details\n",
       "0    \"Staten Island\"  ['\"D Private Che@p Room 2 Explore NYC\"', '36',...\n",
       "1        \"Manhattan\"  ['\"Great Bedroom in Manhattan\"', '49', '\"Harle...\n",
       "2         \"Brooklyn\"  ['\"Private brownstone studio Brooklyn\"', '160'...\n",
       "3            \"Bronx\"   ['\"Cozy Private Bedroom\"', '53', '\"Mott Haven\"']\n",
       "4           \"Queens\"   ['\"Room near JFK Queen Bed\"', '47', '\"Jamaica\"']"
      ]
     },
     "execution_count": 2,
     "metadata": {},
     "output_type": "execute_result"
    }
   ],
   "source": [
    "# Import pandas - to use\n",
    "import pandas as pd\n",
    "import altair as alt\n",
    "\n",
    "# Read the csv output of highest_reviewed_listing() with a DataFrame\n",
    "highest_reviewed_listing = pd.read_csv('../output/highest_reviewed_listing.csv', encoding='Latin-1')\n",
    "highest_reviewed_listing"
   ]
  },
  {
   "cell_type": "code",
   "execution_count": 3,
   "metadata": {},
   "outputs": [
    {
     "data": {
      "text/html": [
       "<div>\n",
       "<style scoped>\n",
       "    .dataframe tbody tr th:only-of-type {\n",
       "        vertical-align: middle;\n",
       "    }\n",
       "\n",
       "    .dataframe tbody tr th {\n",
       "        vertical-align: top;\n",
       "    }\n",
       "\n",
       "    .dataframe thead th {\n",
       "        text-align: right;\n",
       "    }\n",
       "</style>\n",
       "<table border=\"1\" class=\"dataframe\">\n",
       "  <thead>\n",
       "    <tr style=\"text-align: right;\">\n",
       "      <th></th>\n",
       "      <th>Room type</th>\n",
       "      <th>Average price</th>\n",
       "    </tr>\n",
       "  </thead>\n",
       "  <tbody>\n",
       "    <tr>\n",
       "      <th>0</th>\n",
       "      <td>\"Private room\"</td>\n",
       "      <td>89.78</td>\n",
       "    </tr>\n",
       "    <tr>\n",
       "      <th>1</th>\n",
       "      <td>\"Entire home/apt\"</td>\n",
       "      <td>211.79</td>\n",
       "    </tr>\n",
       "    <tr>\n",
       "      <th>2</th>\n",
       "      <td>\"Shared room\"</td>\n",
       "      <td>70.13</td>\n",
       "    </tr>\n",
       "  </tbody>\n",
       "</table>\n",
       "</div>"
      ],
      "text/plain": [
       "           Room type  Average price\n",
       "0     \"Private room\"          89.78\n",
       "1  \"Entire home/apt\"         211.79\n",
       "2      \"Shared room\"          70.13"
      ]
     },
     "execution_count": 3,
     "metadata": {},
     "output_type": "execute_result"
    }
   ],
   "source": [
    "# Read the output csv file of average_price_by_room_type() with a DataFrame\n",
    "average_price_by_room_type = pd.read_csv('../output/average_price_by_room_type.csv', encoding='Latin-1')\n",
    "average_price_by_room_type"
   ]
  },
  {
   "cell_type": "code",
   "execution_count": 4,
   "metadata": {},
   "outputs": [
    {
     "data": {
      "application/vnd.vegalite.v3+json": {
       "$schema": "https://vega.github.io/schema/vega-lite/v3.4.0.json",
       "config": {
        "mark": {
         "tooltip": null
        },
        "view": {
         "height": 300,
         "width": 400
        }
       },
       "data": {
        "name": "data-74998e7168df217a86ed360863cb24e1"
       },
       "datasets": {
        "data-74998e7168df217a86ed360863cb24e1": [
         {
          "Average price": 89.78,
          "Room type": "\"Private room\""
         },
         {
          "Average price": 211.79,
          "Room type": "\"Entire home/apt\""
         },
         {
          "Average price": 70.13,
          "Room type": "\"Shared room\""
         }
        ]
       },
       "encoding": {
        "color": {
         "field": "Room type",
         "type": "nominal"
        },
        "tooltip": {
         "field": "Room type",
         "type": "nominal"
        },
        "x": {
         "field": "Average price",
         "sort": {
          "field": "Average price",
          "order": "ascending"
         },
         "type": "quantitative"
        },
        "y": {
         "field": "Room type",
         "type": "nominal"
        }
       },
       "mark": "bar"
      },
      "image/png": "[encoded data removed]",
      "text/plain": [
       "<VegaLite 3 object>\n",
       "\n",
       "If you see this message, it means the renderer has not been properly enabled\n",
       "for the frontend that you are using. For more information, see\n",
       "https://altair-viz.github.io/user_guide/troubleshooting.html\n"
      ]
     },
     "execution_count": 4,
     "metadata": {},
     "output_type": "execute_result"
    }
   ],
   "source": [
    "# Create an altair bar chart that will visualize the data output of average_price_by_room-type\n",
    "avg_price_by_room_type_graph = alt.Chart(average_price_by_room_type).mark_bar().encode(x=alt.X('Average price', sort=alt.EncodingSortField(field=\"Average price\", order='ascending')), y='Room type', color='Room type', tooltip='Room type')\n",
    "# Save the graph as an html file\n",
    "avg_price_by_room_type_graph.save('../graphs/average_price_by_room_type.html')\n",
    "avg_price_by_room_type_graph"
   ]
  },
  {
   "cell_type": "code",
   "execution_count": null,
   "metadata": {},
   "outputs": [],
   "source": []
  }
 ],
 "metadata": {
  "kernelspec": {
   "display_name": "Python 3",
   "language": "python",
   "name": "python3"
  },
  "language_info": {
   "codemirror_mode": {
    "name": "ipython",
    "version": 3
   },
   "file_extension": ".py",
   "mimetype": "text/x-python",
   "name": "python",
   "nbconvert_exporter": "python",
   "pygments_lexer": "ipython3",
   "version": "3.7.6"
  }
 },
 "nbformat": 4,
 "nbformat_minor": 4
}
