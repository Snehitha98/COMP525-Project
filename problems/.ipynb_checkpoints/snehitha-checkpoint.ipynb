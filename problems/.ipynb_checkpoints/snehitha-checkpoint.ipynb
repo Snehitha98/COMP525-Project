{
 "cells": [
  {
   "cell_type": "code",
   "execution_count": 2,
   "metadata": {},
   "outputs": [
    {
     "data": {
      "text/html": [
       "<div>\n",
       "<style scoped>\n",
       "    .dataframe tbody tr th:only-of-type {\n",
       "        vertical-align: middle;\n",
       "    }\n",
       "\n",
       "    .dataframe tbody tr th {\n",
       "        vertical-align: top;\n",
       "    }\n",
       "\n",
       "    .dataframe thead th {\n",
       "        text-align: right;\n",
       "    }\n",
       "</style>\n",
       "<table border=\"1\" class=\"dataframe\">\n",
       "  <thead>\n",
       "    <tr style=\"text-align: right;\">\n",
       "      <th></th>\n",
       "      <th>neighborhood group</th>\n",
       "      <th>listing details</th>\n",
       "    </tr>\n",
       "  </thead>\n",
       "  <tbody>\n",
       "    <tr>\n",
       "      <td>0</td>\n",
       "      <td>\"Staten Island\"</td>\n",
       "      <td>['\"D Private Che@p Room 2 Explore NYC\"', '36',...</td>\n",
       "    </tr>\n",
       "    <tr>\n",
       "      <td>1</td>\n",
       "      <td>\"Manhattan\"</td>\n",
       "      <td>['\"Great Bedroom in Manhattan\"', '49', '\"Harle...</td>\n",
       "    </tr>\n",
       "    <tr>\n",
       "      <td>2</td>\n",
       "      <td>\"Brooklyn\"</td>\n",
       "      <td>['\"Private brownstone studio Brooklyn\"', '160'...</td>\n",
       "    </tr>\n",
       "    <tr>\n",
       "      <td>3</td>\n",
       "      <td>\"Bronx\"</td>\n",
       "      <td>['\"Cozy Private Bedroom\"', '53', '\"Mott Haven\"']</td>\n",
       "    </tr>\n",
       "    <tr>\n",
       "      <td>4</td>\n",
       "      <td>\"Queens\"</td>\n",
       "      <td>['\"Room near JFK Queen Bed\"', '47', '\"Jamaica\"']</td>\n",
       "    </tr>\n",
       "  </tbody>\n",
       "</table>\n",
       "</div>"
      ],
      "text/plain": [
       "  neighborhood group                                    listing details\n",
       "0    \"Staten Island\"  ['\"D Private Che@p Room 2 Explore NYC\"', '36',...\n",
       "1        \"Manhattan\"  ['\"Great Bedroom in Manhattan\"', '49', '\"Harle...\n",
       "2         \"Brooklyn\"  ['\"Private brownstone studio Brooklyn\"', '160'...\n",
       "3            \"Bronx\"   ['\"Cozy Private Bedroom\"', '53', '\"Mott Haven\"']\n",
       "4           \"Queens\"   ['\"Room near JFK Queen Bed\"', '47', '\"Jamaica\"']"
      ]
     },
     "execution_count": 2,
     "metadata": {},
     "output_type": "execute_result"
    }
   ],
   "source": [
    "# Import pandas - to use\n",
    "import pandas as pd\n",
    "import altair as alt\n",
    "\n",
    "# Read the csv output of highest_reviewed_listing() with a DataFrame\n",
    "highest_reviewed_listing = pd.read_csv('/home/unhmguest/Desktop/comp525/project/output/highest_reviewed_listing.csv', encoding='Latin-1')\n",
    "highest_reviewed_listing"
   ]
  },
  {
   "cell_type": "code",
   "execution_count": 3,
   "metadata": {},
   "outputs": [
    {
     "data": {
      "text/html": [
       "<div>\n",
       "<style scoped>\n",
       "    .dataframe tbody tr th:only-of-type {\n",
       "        vertical-align: middle;\n",
       "    }\n",
       "\n",
       "    .dataframe tbody tr th {\n",
       "        vertical-align: top;\n",
       "    }\n",
       "\n",
       "    .dataframe thead th {\n",
       "        text-align: right;\n",
       "    }\n",
       "</style>\n",
       "<table border=\"1\" class=\"dataframe\">\n",
       "  <thead>\n",
       "    <tr style=\"text-align: right;\">\n",
       "      <th></th>\n",
       "      <th>Room type</th>\n",
       "      <th>Average price</th>\n",
       "    </tr>\n",
       "  </thead>\n",
       "  <tbody>\n",
       "    <tr>\n",
       "      <td>0</td>\n",
       "      <td>\"Private room\"</td>\n",
       "      <td>89.78</td>\n",
       "    </tr>\n",
       "    <tr>\n",
       "      <td>1</td>\n",
       "      <td>\"Entire home/apt\"</td>\n",
       "      <td>211.79</td>\n",
       "    </tr>\n",
       "    <tr>\n",
       "      <td>2</td>\n",
       "      <td>\"Shared room\"</td>\n",
       "      <td>70.13</td>\n",
       "    </tr>\n",
       "  </tbody>\n",
       "</table>\n",
       "</div>"
      ],
      "text/plain": [
       "           Room type  Average price\n",
       "0     \"Private room\"          89.78\n",
       "1  \"Entire home/apt\"         211.79\n",
       "2      \"Shared room\"          70.13"
      ]
     },
     "execution_count": 3,
     "metadata": {},
     "output_type": "execute_result"
    }
   ],
   "source": [
    "# Read the output csv file of average_price_by_room_type() with a DataFrame\n",
    "average_price_by_room_type = pd.read_csv('/home/unhmguest/Desktop/comp525/project/output/average_price_by_room_type.csv', encoding='Latin-1')\n",
    "average_price_by_room_type"
   ]
  },
  {
   "cell_type": "code",
   "execution_count": 4,
   "metadata": {},
   "outputs": [
    {
     "data": {
      "text/html": [
       "\n",
       "<div id=\"altair-viz-2f8209594ea044939d8e44944505dacf\"></div>\n",
       "<script type=\"text/javascript\">\n",
       "  (function(spec, embedOpt){\n",
       "    let outputDiv = document.currentScript.previousElementSibling;\n",
       "    if (outputDiv.id !== \"altair-viz-2f8209594ea044939d8e44944505dacf\") {\n",
       "      outputDiv = document.getElementById(\"altair-viz-2f8209594ea044939d8e44944505dacf\");\n",
       "    }\n",
       "    const paths = {\n",
       "      \"vega\": \"https://cdn.jsdelivr.net/npm//vega@5?noext\",\n",
       "      \"vega-lib\": \"https://cdn.jsdelivr.net/npm//vega-lib?noext\",\n",
       "      \"vega-lite\": \"https://cdn.jsdelivr.net/npm//vega-lite@4.8.1?noext\",\n",
       "      \"vega-embed\": \"https://cdn.jsdelivr.net/npm//vega-embed@6?noext\",\n",
       "    };\n",
       "\n",
       "    function loadScript(lib) {\n",
       "      return new Promise(function(resolve, reject) {\n",
       "        var s = document.createElement('script');\n",
       "        s.src = paths[lib];\n",
       "        s.async = true;\n",
       "        s.onload = () => resolve(paths[lib]);\n",
       "        s.onerror = () => reject(`Error loading script: ${paths[lib]}`);\n",
       "        document.getElementsByTagName(\"head\")[0].appendChild(s);\n",
       "      });\n",
       "    }\n",
       "\n",
       "    function showError(err) {\n",
       "      outputDiv.innerHTML = `<div class=\"error\" style=\"color:red;\">${err}</div>`;\n",
       "      throw err;\n",
       "    }\n",
       "\n",
       "    function displayChart(vegaEmbed) {\n",
       "      vegaEmbed(outputDiv, spec, embedOpt)\n",
       "        .catch(err => showError(`Javascript Error: ${err.message}<br>This usually means there's a typo in your chart specification. See the javascript console for the full traceback.`));\n",
       "    }\n",
       "\n",
       "    if(typeof define === \"function\" && define.amd) {\n",
       "      requirejs.config({paths});\n",
       "      require([\"vega-embed\"], displayChart, err => showError(`Error loading script: ${err.message}`));\n",
       "    } else if (typeof vegaEmbed === \"function\") {\n",
       "      displayChart(vegaEmbed);\n",
       "    } else {\n",
       "      loadScript(\"vega\")\n",
       "        .then(() => loadScript(\"vega-lite\"))\n",
       "        .then(() => loadScript(\"vega-embed\"))\n",
       "        .catch(showError)\n",
       "        .then(() => displayChart(vegaEmbed));\n",
       "    }\n",
       "  })({\"config\": {\"view\": {\"continuousWidth\": 400, \"continuousHeight\": 300}}, \"data\": {\"name\": \"data-74998e7168df217a86ed360863cb24e1\"}, \"mark\": \"bar\", \"encoding\": {\"color\": {\"type\": \"nominal\", \"field\": \"Room type\"}, \"tooltip\": {\"type\": \"nominal\", \"field\": \"Room type\"}, \"x\": {\"type\": \"quantitative\", \"field\": \"Average price\", \"sort\": {\"field\": \"Average price\", \"order\": \"ascending\"}}, \"y\": {\"type\": \"nominal\", \"field\": \"Room type\"}}, \"$schema\": \"https://vega.github.io/schema/vega-lite/v4.8.1.json\", \"datasets\": {\"data-74998e7168df217a86ed360863cb24e1\": [{\"Room type\": \"\\\"Private room\\\"\", \"Average price\": 89.78}, {\"Room type\": \"\\\"Entire home/apt\\\"\", \"Average price\": 211.79}, {\"Room type\": \"\\\"Shared room\\\"\", \"Average price\": 70.13}]}}, {\"mode\": \"vega-lite\"});\n",
       "</script>"
      ],
      "text/plain": [
       "alt.Chart(...)"
      ]
     },
     "execution_count": 4,
     "metadata": {},
     "output_type": "execute_result"
    }
   ],
   "source": [
    "# Create an altair bar chart that will visualize the data output of average_price_by_room-type\n",
    "avg_price_by_room_type_graph = alt.Chart(average_price_by_room_type).mark_bar().encode(x=alt.X('Average price', sort=alt.EncodingSortField(field=\"Average price\", order='ascending')), y='Room type', color='Room type', tooltip='Room type')\n",
    "# Save the graph as an html file\n",
    "avg_price_by_room_type_graph.save('/home/unhmguest/Desktop/comp525/project/graphs/average_price_by_room_type.html')\n",
    "avg_price_by_room_type_graph"
   ]
  },
  {
   "cell_type": "code",
   "execution_count": null,
   "metadata": {},
   "outputs": [],
   "source": []
  }
 ],
 "metadata": {
  "kernelspec": {
   "display_name": "Python 3",
   "language": "python",
   "name": "python3"
  },
  "language_info": {
   "codemirror_mode": {
    "name": "ipython",
    "version": 3
   },
   "file_extension": ".py",
   "mimetype": "text/x-python",
   "name": "python",
   "nbconvert_exporter": "python",
   "pygments_lexer": "ipython3",
   "version": "3.7.4"
  }
 },
 "nbformat": 4,
 "nbformat_minor": 2
}
